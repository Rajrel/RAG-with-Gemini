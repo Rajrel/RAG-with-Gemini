{
 "cells": [
  {
   "cell_type": "markdown",
   "id": "1a163a15-9bf9-4ee3-a313-77f191659d63",
   "metadata": {},
   "source": [
    "### Rag Fusion\n",
    "Unlike naive union of Multiqueryretriever, rag-fusion has a ranker at the end of multi-query layer that ranks the relevance of contexts and consumes them  When multiple queries are passed through the retriever, it generates a list of relevant documents for each query. By ranking the order of relevance of each context, we focus on the most relevant pieces of information first and less relevant information later. The calculation is in such a way that even the lower ranked documents are taken into consideration. This maximizes the contextual information passed on to the LLM."
   ]
  },
  {
   "cell_type": "code",
   "execution_count": 2,
   "id": "9acc8700-afe0-4c9c-be63-cccfd20e61a8",
   "metadata": {},
   "outputs": [],
   "source": [
    "from dotenv import load_dotenv, dotenv_values\n",
    "import google.generativeai as genai\n",
    "from IPython.display import Markdown, display\n",
    "import os \n",
    "\n",
    "\n",
    "load_dotenv()\n",
    "os.getenv(\"GOOGLE_API_KEY\") \n",
    "my_api_key = os.getenv(\"GOOGLE_API_KEY\")\n",
    "genai.configure(api_key=my_api_key)"
   ]
  },
  {
   "cell_type": "code",
   "execution_count": 42,
   "id": "219997cd-e810-46ef-8e9d-43fb9e59b260",
   "metadata": {},
   "outputs": [],
   "source": [
    "docs = {\n",
    "    \"doc1\": \"Feminism and economic empowerment.\",\n",
    "    \"doc2\": \"Family life disintegration due to Feminism\",\n",
    "    \"doc3\": \"Divorce & Feminism: A social perspective.\",\n",
    "    \"doc4\": \"Conflict Resolution via Counselling\",\n",
    "    \"doc5\": \"Policy changes needed to combat family disintegration and divorces.\",\n",
    "    \"doc6\": \"Divorces and its impact on society.\",\n",
    "    \"doc7\": \"Feminism: Laws and Policies.\",\n",
    "    \"doc8\": \"Divorce: A subset of Feminism.\",\n",
    "    \"doc9\": \"How Feminism affects daily life of womenkind?\",\n",
    "    \"doc10\": \"The history of Feminism.\",\n",
    "}"
   ]
  },
  {
   "cell_type": "code",
   "execution_count": 43,
   "id": "ce0aa28d-a152-488b-a2ef-f942af9d6b15",
   "metadata": {},
   "outputs": [],
   "source": [
    "from langchain.schema import Document\n",
    "# Convert documents to LangChain Document format\n",
    "docs = [Document(page_content=content, metadata={\"id\": doc_id}) for doc_id, content in docs.items()]\n"
   ]
  },
  {
   "cell_type": "code",
   "execution_count": 44,
   "id": "76c4320c-3086-4b30-b32b-24ca8b2f4323",
   "metadata": {},
   "outputs": [],
   "source": [
    "from langchain_google_genai import GoogleGenerativeAIEmbeddings\n",
    "from langchain_community.vectorstores import Chroma\n",
    "\n",
    "## Call Embedding Model\n",
    "embedding = GoogleGenerativeAIEmbeddings(model=\"models/text-embedding-004\")\n",
    "\n",
    "\n",
    "vectorstore = Chroma.from_documents(documents=docs, \n",
    "                                    embedding=embedding)\n",
    "\n",
    "retriever = vectorstore.as_retriever()"
   ]
  },
  {
   "cell_type": "markdown",
   "id": "c249621f-f18c-4125-b78d-06afc05c89ca",
   "metadata": {},
   "source": [
    "##### Defining the Query Generator"
   ]
  },
  {
   "cell_type": "code",
   "execution_count": 45,
   "id": "86f0633f-2182-4552-821a-54cb30cefbb4",
   "metadata": {},
   "outputs": [],
   "source": [
    "from langchain_core.output_parsers import StrOutputParser\n",
    "from langchain_google_genai import ChatGoogleGenerativeAI\n",
    "\n",
    "# LLM\n",
    "llm = ChatGoogleGenerativeAI(model= \"gemini-1.5-flash\", temperature = 0)"
   ]
  },
  {
   "cell_type": "code",
   "execution_count": 46,
   "id": "c41c12b4-582b-4da2-8946-b6afa12cd2f6",
   "metadata": {},
   "outputs": [
    {
     "name": "stdout",
     "output_type": "stream",
     "text": [
      "[SystemMessagePromptTemplate(prompt=PromptTemplate(input_variables=[], template='You are a helpful assistant that generates multiple search queries based on a single input query.')), HumanMessagePromptTemplate(prompt=PromptTemplate(input_variables=['original_query'], template='Generate multiple search queries related to: {original_query}')), HumanMessagePromptTemplate(prompt=PromptTemplate(input_variables=[], template='OUTPUT (4 queries):'))]\n"
     ]
    }
   ],
   "source": [
    "from langchain import hub\n",
    "\n",
    "prompt = hub.pull(\"langchain-ai/rag-fusion-query-generation\")\n",
    "print(prompt.messages)"
   ]
  },
  {
   "cell_type": "code",
   "execution_count": 47,
   "id": "332d624b-3e1f-4d5e-94fc-3ce1e35eb7cb",
   "metadata": {},
   "outputs": [],
   "source": [
    "generate_queries = (\n",
    "    prompt | llm | StrOutputParser() | (lambda x: x.split(\"\\n\"))\n",
    ")"
   ]
  },
  {
   "cell_type": "markdown",
   "id": "1d123f89-7ff9-4238-813e-30e24d565b22",
   "metadata": {},
   "source": [
    "##### Full chain\n",
    "We can now put it all together and define the full chain. This chain:\n",
    "\n",
    "1. Generates a bunch of queries\n",
    "2. Looks up each query in the retriever\n",
    "3. Joins all the results together using <b> Reciprocal Rank Fusion </b>"
   ]
  },
  {
   "cell_type": "code",
   "execution_count": 51,
   "id": "bc14a620-fc8d-42c2-8e57-58e8ecc523ed",
   "metadata": {},
   "outputs": [],
   "source": [
    "from langchain.load import dumps, loads\n",
    "\n",
    "def reciprocal_rank_fusion(results: list[list], k=2):\n",
    "    \"\"\" Reciprocal_rank_fusion that takes multiple lists of ranked documents \n",
    "        and an optional parameter k used in the RRF formula \"\"\"\n",
    "    \n",
    "    # Initialize a dictionary to hold fused scores for each unique document\n",
    "    fused_scores = {}\n",
    "\n",
    "    # Iterate through each list of ranked documents\n",
    "    for docs in results:\n",
    "        # Iterate through each document in the list, with its rank (position in the list)\n",
    "        for rank, doc in enumerate(docs):\n",
    "            # Convert the document to a string format to use as a key (assumes documents can be serialized to JSON)\n",
    "            doc_str = dumps(doc)\n",
    "            # If the document is not yet in the fused_scores dictionary, add it with an initial score of 0\n",
    "            if doc_str not in fused_scores:\n",
    "                fused_scores[doc_str] = 0\n",
    "            # Retrieve the current score of the document, if any\n",
    "            previous_score = fused_scores[doc_str]\n",
    "            # Update the score of the document using the RRF formula: 1 / (rank + k)\n",
    "            fused_scores[doc_str] += 1 / (rank + k)\n",
    "\n",
    "    # Sort the documents based on their fused scores in descending order to get the final reranked results\n",
    "    reranked_results = [\n",
    "        (loads(doc), score)\n",
    "        for doc, score in sorted(fused_scores.items(), key=lambda x: x[1], reverse=True)\n",
    "    ]\n",
    "\n",
    "    # Return the reranked results as a list of tuples, each containing the document and its fused score\n",
    "    return reranked_results\n",
    "\n",
    "retrieval_chain_rag_fusion = generate_queries | retriever.map() | reciprocal_rank_fusion\n"
   ]
  },
  {
   "cell_type": "code",
   "execution_count": 56,
   "id": "c9f9b48f-9cf6-4799-837a-4106a2db6c39",
   "metadata": {},
   "outputs": [
    {
     "data": {
      "text/plain": [
       "[(Document(page_content='Women Rights: Laws and Policies.', metadata={'id': 'doc7'}),\n",
       "  2.1999999999999997),\n",
       " (Document(page_content='Policy changes needed to combat family disintegration and divorces.', metadata={'id': 'doc5'}),\n",
       "  2.1666666666666665),\n",
       " (Document(page_content='Feminism: Laws and Policies.', metadata={'id': 'doc7'}),\n",
       "  2.0),\n",
       " (Document(page_content='How Feminism affects daily life of womenkind?', metadata={'id': 'doc9'}),\n",
       "  1.0666666666666667),\n",
       " (Document(page_content='How Women Rights affects daily life of womenkind?', metadata={'id': 'doc9'}),\n",
       "  0.8500000000000001),\n",
       " (Document(page_content='Feminism and economic empowerment.', metadata={'id': 'doc1'}),\n",
       "  0.7)]"
      ]
     },
     "execution_count": 56,
     "metadata": {},
     "output_type": "execute_result"
    }
   ],
   "source": [
    "original_query = \" Feminism and Policies\" # play around with feminism and women rights and view\n",
    "\n",
    "docs = retrieval_chain_rag_fusion.invoke({\"original_query\": original_query})\n",
    "docs"
   ]
  },
  {
   "cell_type": "code",
   "execution_count": null,
   "id": "c8ba6f2e-75d3-4857-bc2f-09bfb8216941",
   "metadata": {},
   "outputs": [],
   "source": []
  }
 ],
 "metadata": {
  "kernelspec": {
   "display_name": "Python 3 (ipykernel)",
   "language": "python",
   "name": "python3"
  },
  "language_info": {
   "codemirror_mode": {
    "name": "ipython",
    "version": 3
   },
   "file_extension": ".py",
   "mimetype": "text/x-python",
   "name": "python",
   "nbconvert_exporter": "python",
   "pygments_lexer": "ipython3",
   "version": "3.11.5"
  }
 },
 "nbformat": 4,
 "nbformat_minor": 5
}
